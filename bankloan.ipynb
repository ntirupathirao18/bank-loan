{
 "cells": [
  {
   "cell_type": "code",
   "execution_count": 250,
   "metadata": {
    "collapsed": true
   },
   "outputs": [],
   "source": [
    "import pandas as pd\n",
    "import numpy as np\n",
    "import os"
   ]
  },
  {
   "cell_type": "code",
   "execution_count": 251,
   "metadata": {},
   "outputs": [
    {
     "name": "stdout",
     "output_type": "stream",
     "text": [
      "(134, 13)\n"
     ]
    }
   ],
   "source": [
    "filename = os.path.abspath(\"train_u6lujuX_CVtuZ9i.csv\")\n",
    "df = pd.read_csv(filename)\n",
    "print(df.loc[df.isnull().any(axis = 1)].shape)"
   ]
  },
  {
   "cell_type": "code",
   "execution_count": 252,
   "metadata": {},
   "outputs": [
    {
     "name": "stdout",
     "output_type": "stream",
     "text": [
      "(614, 13)\n",
      "(0, 13) Loan_ID\n",
      "(13, 13) Gender\n",
      "(3, 13) Married\n",
      "(15, 13) Dependents\n",
      "(0, 13) Education\n",
      "(32, 13) Self_Employed\n",
      "(0, 13) ApplicantIncome\n",
      "(0, 13) CoapplicantIncome\n",
      "(22, 13) LoanAmount\n",
      "(14, 13) Loan_Amount_Term\n",
      "(50, 13) Credit_History\n",
      "(0, 13) Property_Area\n",
      "(0, 13) Loan_Status\n"
     ]
    }
   ],
   "source": [
    "columns = df.columns\n",
    "print(df.shape)\n",
    "for i in range(len(columns)) :\n",
    "    print(df[df[str(columns[i])].isnull()].shape,str(columns[i]))"
   ]
  },
  {
   "cell_type": "code",
   "execution_count": 253,
   "metadata": {},
   "outputs": [
    {
     "name": "stdout",
     "output_type": "stream",
     "text": [
      "(564, 13)\n",
      "(538, 13)\n",
      "(526, 13)\n",
      "(523, 13)\n"
     ]
    }
   ],
   "source": [
    "df.dropna(subset=['Credit_History'],how = 'all',inplace = True)\n",
    "print(df.shape)\n",
    "df.dropna(subset=['Self_Employed'],how = 'all',inplace = True)\n",
    "print(df.shape)\n",
    "df.dropna(subset=['Gender'],how = 'all',inplace = True)\n",
    "print(df.shape)\n",
    "df.dropna(subset=['Married'],how = 'all',inplace = True)\n",
    "print(df.shape)"
   ]
  },
  {
   "cell_type": "code",
   "execution_count": 254,
   "metadata": {},
   "outputs": [
    {
     "name": "stdout",
     "output_type": "stream",
     "text": [
      "(0, 13) Loan_ID\n",
      "(0, 13) Gender\n",
      "(0, 13) Married\n",
      "(12, 13) Dependents\n",
      "(0, 13) Education\n",
      "(0, 13) Self_Employed\n",
      "(0, 13) ApplicantIncome\n",
      "(0, 13) CoapplicantIncome\n",
      "(20, 13) LoanAmount\n",
      "(13, 13) Loan_Amount_Term\n",
      "(0, 13) Credit_History\n",
      "(0, 13) Property_Area\n",
      "(0, 13) Loan_Status\n"
     ]
    }
   ],
   "source": [
    "for i in range(len(columns)) :\n",
    "    print(df[df[str(columns[i])].isnull()].shape,str(columns[i]))"
   ]
  },
  {
   "cell_type": "code",
   "execution_count": 255,
   "metadata": {
    "collapsed": true
   },
   "outputs": [],
   "source": [
    "#sdf cleaning "
   ]
  },
  {
   "cell_type": "code",
   "execution_count": 256,
   "metadata": {},
   "outputs": [
    {
     "name": "stdout",
     "output_type": "stream",
     "text": [
      "(511, 13)\n",
      "(523, 13)\n"
     ]
    }
   ],
   "source": [
    "sdf = df.copy(deep = True)\n",
    "df.dropna(subset=['Dependents'],how = 'all',inplace = True)\n",
    "print(df.shape)\n",
    "print(sdf.shape)\n"
   ]
  },
  {
   "cell_type": "code",
   "execution_count": 257,
   "metadata": {},
   "outputs": [
    {
     "data": {
      "text/plain": [
       "(0, 13)"
      ]
     },
     "execution_count": 257,
     "metadata": {},
     "output_type": "execute_result"
    }
   ],
   "source": [
    "sdf.Dependents = sdf.Dependents.fillna(value = '0')\n",
    "sdf.shape\n",
    "sdf.LoanAmount = sdf.LoanAmount.fillna(sdf.LoanAmount.mean())\n",
    "sdf.Loan_Amount_Term = sdf.Loan_Amount_Term.fillna(sdf.Loan_Amount_Term.mean())\n",
    "sdf.loc[sdf.isnull().any(axis = 1)].shape"
   ]
  },
  {
   "cell_type": "code",
   "execution_count": 258,
   "metadata": {
    "collapsed": true
   },
   "outputs": [],
   "source": [
    "#df cleaning "
   ]
  },
  {
   "cell_type": "code",
   "execution_count": 259,
   "metadata": {},
   "outputs": [
    {
     "data": {
      "text/plain": [
       "(0, 13)"
      ]
     },
     "execution_count": 259,
     "metadata": {},
     "output_type": "execute_result"
    }
   ],
   "source": [
    "df.dropna(subset=['Dependents'],how = 'all',inplace = True)\n",
    "df.dropna(subset=['LoanAmount'],how = 'all',inplace = True)\n",
    "df.dropna(subset=['Loan_Amount_Term'],how = 'all',inplace = True)\n",
    "df.loc[df.isnull().any(axis = 1)].shape"
   ]
  },
  {
   "cell_type": "code",
   "execution_count": 260,
   "metadata": {},
   "outputs": [
    {
     "name": "stdout",
     "output_type": "stream",
     "text": [
      "(480, 13)\n",
      "(523, 13)\n"
     ]
    }
   ],
   "source": [
    "print(df.shape)\n",
    "print(sdf.shape)"
   ]
  },
  {
   "cell_type": "code",
   "execution_count": 261,
   "metadata": {
    "collapsed": true
   },
   "outputs": [],
   "source": [
    "sdf_target = sdf.Loan_Status\n",
    "df_target = df.Loan_Status"
   ]
  },
  {
   "cell_type": "code",
   "execution_count": 262,
   "metadata": {},
   "outputs": [
    {
     "name": "stdout",
     "output_type": "stream",
     "text": [
      "(480, 12)\n",
      "(523, 12)\n"
     ]
    }
   ],
   "source": [
    "df  = df.drop(labels = ['Loan_Status'],axis = 1)\n",
    "sdf = sdf.drop(columns = ['Loan_Status'],axis = 1)\n",
    "print(df.shape)\n",
    "print(sdf.shape)"
   ]
  },
  {
   "cell_type": "code",
   "execution_count": 263,
   "metadata": {
    "collapsed": true
   },
   "outputs": [],
   "source": [
    "from sklearn.preprocessing import LabelEncoder\n",
    "for column in df.columns:\n",
    "    if df[column].dtype == type(object):\n",
    "        le = LabelEncoder()\n",
    "        df[column] = le.fit_transform(df[column])"
   ]
  },
  {
   "cell_type": "code",
   "execution_count": 264,
   "metadata": {},
   "outputs": [],
   "source": [
    "for column in sdf.columns:\n",
    "    if sdf[column].dtype == type(object):\n",
    "        sle = LabelEncoder()\n",
    "        sdf[column] = sle.fit_transform(sdf[column])"
   ]
  },
  {
   "cell_type": "code",
   "execution_count": 265,
   "metadata": {
    "collapsed": true
   },
   "outputs": [],
   "source": [
    "from sklearn.model_selection import train_test_split"
   ]
  },
  {
   "cell_type": "code",
   "execution_count": 266,
   "metadata": {
    "collapsed": true
   },
   "outputs": [],
   "source": [
    "dx_train,dx_test,dy_train,dy_test = train_test_split(df,df_target,test_size = 0.3,random_state = 43)\n",
    "sdx_train,sdx_test,sdy_train,sdy_test = train_test_split(sdf,sdf_target,test_size = 0.3,random_state = 43)"
   ]
  },
  {
   "cell_type": "code",
   "execution_count": 267,
   "metadata": {},
   "outputs": [
    {
     "name": "stdout",
     "output_type": "stream",
     "text": [
      "accurancy : 0.631944444444\n",
      "accurancy : 0.649681528662\n"
     ]
    }
   ],
   "source": [
    "from sklearn import svm\n",
    "from sklearn import metrics\n",
    "\n",
    "clf = svm.SVC()\n",
    "clf.fit(dx_train,dy_train)\n",
    "dy_predict = clf.predict(dx_test)\n",
    "clf.fit(sdx_train,sdy_train)\n",
    "sdy_predict = clf.predict(sdx_test)\n",
    "\n",
    "print('accurancy :',metrics.accuracy_score(dy_test,dy_predict))\n",
    "print('accurancy :',metrics.accuracy_score(sdy_test,sdy_predict))\n"
   ]
  },
  {
   "cell_type": "code",
   "execution_count": 268,
   "metadata": {},
   "outputs": [
    {
     "name": "stdout",
     "output_type": "stream",
     "text": [
      "accurancy : 0.458333333333\n",
      "accurancy : 0.350318471338\n"
     ]
    }
   ],
   "source": [
    "clf = svm.LinearSVC()\n",
    "clf.fit(dx_train,dy_train)\n",
    "dy_predict = clf.predict(dx_test)\n",
    "clf = svm.LinearSVC()\n",
    "clf.fit(sdx_train,sdy_train)\n",
    "sdy_predict = clf.predict(sdx_test)\n",
    "print('accurancy :',metrics.accuracy_score(dy_test,dy_predict))\n",
    "print('accurancy :',metrics.accuracy_score(sdy_test,sdy_predict))\n"
   ]
  },
  {
   "cell_type": "code",
   "execution_count": 269,
   "metadata": {},
   "outputs": [
    {
     "name": "stdout",
     "output_type": "stream",
     "text": [
      "accurancy : 0.631944444444\n",
      "accurancy : 0.649681528662\n"
     ]
    }
   ],
   "source": [
    "clf = svm.NuSVC()\n",
    "clf.fit(dx_train,dy_train)\n",
    "dy_predict = clf.predict(dx_test)\n",
    "clf = svm.NuSVC()\n",
    "clf.fit(sdx_train,sdy_train)\n",
    "sdy_predict = clf.predict(sdx_test)\n",
    "print('accurancy :',metrics.accuracy_score(dy_test,dy_predict))\n",
    "print('accurancy :',metrics.accuracy_score(sdy_test,sdy_predict))"
   ]
  },
  {
   "cell_type": "code",
   "execution_count": 270,
   "metadata": {},
   "outputs": [
    {
     "name": "stdout",
     "output_type": "stream",
     "text": [
      "accurancy : 0.6875\n",
      "accurancy : 0.68152866242\n"
     ]
    }
   ],
   "source": [
    "from sklearn import tree\n",
    "tlf = tree.DecisionTreeClassifier()\n",
    "tlf.fit(dx_train,dy_train)\n",
    "dy_predict = tlf.predict(dx_test)\n",
    "tlf.fit(sdx_train,sdy_train)\n",
    "sdy_predict = tlf.predict(sdx_test)\n",
    "print('accurancy :',metrics.accuracy_score(dy_test,dy_predict))\n",
    "print('accurancy :',metrics.accuracy_score(sdy_test,sdy_predict))"
   ]
  },
  {
   "cell_type": "code",
   "execution_count": 271,
   "metadata": {},
   "outputs": [
    {
     "name": "stdout",
     "output_type": "stream",
     "text": [
      "accurancy : 0.743055555556\n",
      "accurancy : 0.668789808917\n"
     ]
    }
   ],
   "source": [
    "tlf = tree.ExtraTreeClassifier()\n",
    "tlf.fit(dx_train,dy_train)\n",
    "dy_predict = tlf.predict(dx_test)\n",
    "tlf.fit(sdx_train,sdy_train)\n",
    "sdy_predict = tlf.predict(sdx_test)\n",
    "print('accurancy :',metrics.accuracy_score(dy_test,dy_predict))\n",
    "print('accurancy :',metrics.accuracy_score(sdy_test,sdy_predict))"
   ]
  },
  {
   "cell_type": "code",
   "execution_count": 272,
   "metadata": {},
   "outputs": [
    {
     "name": "stdout",
     "output_type": "stream",
     "text": [
      "accurancy : 0.902777777778\n",
      "accurancy : 0.668789808917\n"
     ]
    }
   ],
   "source": [
    "from sklearn import ensemble\n",
    "relf = ensemble.RandomForestClassifier()\n",
    "relf.fit(dx_train,dy_train)\n",
    "dy_predict = tlf.predict(dx_test)\n",
    "relf.fit(sdx_train,sdy_train)\n",
    "sdy_predict = tlf.predict(sdx_test)\n",
    "print('accurancy :',metrics.accuracy_score(dy_test,dy_predict))\n",
    "print('accurancy :',metrics.accuracy_score(sdy_test,sdy_predict))"
   ]
  },
  {
   "cell_type": "code",
   "execution_count": 273,
   "metadata": {},
   "outputs": [],
   "source": [
    "ens = []\n",
    "ens.append(ensemble.AdaBoostClassifier())\n",
    "ens.append(ensemble.BaggingClassifier())\n",
    "ens.append(ensemble.ExtraTreesClassifier())\n",
    "ens.append(ensemble.GradientBoostingClassifier())\n",
    "#ens.append(ensemble.voting_classifier())\n",
    "ens.append(ensemble.IsolationForest())"
   ]
  },
  {
   "cell_type": "code",
   "execution_count": 274,
   "metadata": {},
   "outputs": [
    {
     "name": "stdout",
     "output_type": "stream",
     "text": [
      "accurancy : 0.902777777778\n",
      "accurancy : 0.668789808917\n",
      "0\n",
      "accurancy : 0.902777777778\n",
      "accurancy : 0.668789808917\n",
      "1\n",
      "accurancy : 0.902777777778\n",
      "accurancy : 0.668789808917\n",
      "2\n",
      "accurancy : 0.902777777778\n",
      "accurancy : 0.668789808917\n",
      "3\n",
      "accurancy : 0.902777777778\n",
      "accurancy : 0.668789808917\n",
      "4\n"
     ]
    }
   ],
   "source": [
    "for st in range(len(ens)) :\n",
    "    relf = ens[st]\n",
    "    relf.fit(dx_train,dy_train)\n",
    "    dy_predict = tlf.predict(dx_test)\n",
    "    relf.fit(sdx_train,sdy_train)\n",
    "    sdy_predict = tlf.predict(sdx_test)\n",
    "    print('accurancy :',metrics.accuracy_score(dy_test,dy_predict))\n",
    "    print('accurancy :',metrics.accuracy_score(sdy_test,sdy_predict))\n",
    "    print(st)"
   ]
  }
 ],
 "metadata": {
  "kernelspec": {
   "display_name": "Python 3",
   "language": "python",
   "name": "python3"
  },
  "language_info": {
   "codemirror_mode": {
    "name": "ipython",
    "version": 3
   },
   "file_extension": ".py",
   "mimetype": "text/x-python",
   "name": "python",
   "nbconvert_exporter": "python",
   "pygments_lexer": "ipython3",
   "version": "3.6.3"
  }
 },
 "nbformat": 4,
 "nbformat_minor": 2
}
